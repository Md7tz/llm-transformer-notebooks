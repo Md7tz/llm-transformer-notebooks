{
 "cells": [
  {
   "cell_type": "code",
   "execution_count": 1,
   "id": "ba386716",
   "metadata": {},
   "outputs": [
    {
     "name": "stderr",
     "output_type": "stream",
     "text": [
      "USER_AGENT environment variable not set, consider setting it to identify your requests.\n"
     ]
    }
   ],
   "source": [
    "from langchain.document_loaders import WebBaseLoader                # Load a web page as a document\n",
    "from langchain.text_splitter import RecursiveCharacterTextSplitter  # Split the document into smaller chunks\n",
    "from langchain.embeddings import OpenAIEmbeddings                   # Create embeddings for the text\n",
    "from langchain.vectorstores import FAISS                            # Create a vector store for the embeddings\n",
    "from langchain.memory import ConversationBufferMemory               # Create memory for the conversation\n",
    "from langchain.llms import OpenAI as LLM                            # Use OpenAI's LLM for generating responses\n",
    "from langchain.chains import ConversationalRetrievalChain           # Create a chain for conversational retrieval\n",
    "from langchain.chat_models import ChatOpenAI                        # Use OpenAI's chat model for generating responses"
   ]
  },
  {
   "cell_type": "code",
   "execution_count": 2,
   "id": "94d1f4ac",
   "metadata": {},
   "outputs": [],
   "source": [
    "url = \"https://en.wikipedia.org/wiki/Main_Page\" # contains news headlines, featured articles, etc."
   ]
  },
  {
   "cell_type": "code",
   "execution_count": 3,
   "id": "dc4e731d",
   "metadata": {},
   "outputs": [],
   "source": [
    "loader = WebBaseLoader(url)"
   ]
  },
  {
   "cell_type": "code",
   "execution_count": 4,
   "id": "a76c4e87",
   "metadata": {},
   "outputs": [],
   "source": [
    "raw_documents = loader.load() # load the web page as a document"
   ]
  },
  {
   "cell_type": "code",
   "execution_count": 5,
   "id": "48eb6929",
   "metadata": {},
   "outputs": [],
   "source": [
    "text_splitter = RecursiveCharacterTextSplitter()\n",
    "documents = text_splitter.split_documents(raw_documents) # split the document into smaller chunks"
   ]
  },
  {
   "cell_type": "code",
   "execution_count": 16,
   "id": "b633a190",
   "metadata": {},
   "outputs": [],
   "source": [
    "embedding = OpenAIEmbeddings()"
   ]
  },
  {
   "cell_type": "code",
   "execution_count": 7,
   "id": "8f330de3",
   "metadata": {},
   "outputs": [],
   "source": [
    "vectorstore = FAISS.from_documents(documents, embedding) # create a vector store for the embeddings"
   ]
  },
  {
   "cell_type": "code",
   "execution_count": 15,
   "id": "189a85cc",
   "metadata": {},
   "outputs": [],
   "source": [
    "memory = ConversationBufferMemory(memory_key=\"chat_history\", return_messages=True) # create memory for the conversation"
   ]
  },
  {
   "cell_type": "code",
   "execution_count": 14,
   "id": "42815e18",
   "metadata": {},
   "outputs": [],
   "source": [
    "qa = ConversationalRetrievalChain.from_llm(\n",
    "    ChatOpenAI(temperature=0, model=\"gpt-3.5-turbo\"), # use OpenAI's chat model for generating responses\n",
    "    vectorstore.as_retriever(), # use the vector store as a retriever\n",
    "    memory=memory, # use the memory for the conversation\n",
    ")"
   ]
  },
  {
   "cell_type": "code",
   "execution_count": 10,
   "id": "ce4eb8c7",
   "metadata": {},
   "outputs": [],
   "source": [
    "query = \"What is the main news headlines today?\" # query to ask the model"
   ]
  },
  {
   "cell_type": "code",
   "execution_count": 13,
   "id": "bf18023c",
   "metadata": {},
   "outputs": [],
   "source": [
    "result = qa({\"question\": query}) # ask the model the query"
   ]
  },
  {
   "cell_type": "code",
   "execution_count": 12,
   "id": "900b2d68",
   "metadata": {},
   "outputs": [
    {
     "data": {
      "text/plain": [
       "\"The main news headlines today include Friedrich Merz being elected Chancellor of Germany, India conducting missile strikes on Pakistani targets, Zhao Xintong winning the World Snooker Championship, and the People's Action Party retaining a supermajority of seats in the Singaporean general election.\""
      ]
     },
     "execution_count": 12,
     "metadata": {},
     "output_type": "execute_result"
    }
   ],
   "source": [
    "result[\"answer\"]"
   ]
  }
 ],
 "metadata": {
  "kernelspec": {
   "display_name": ".venv",
   "language": "python",
   "name": "python3"
  },
  "language_info": {
   "codemirror_mode": {
    "name": "ipython",
    "version": 3
   },
   "file_extension": ".py",
   "mimetype": "text/x-python",
   "name": "python",
   "nbconvert_exporter": "python",
   "pygments_lexer": "ipython3",
   "version": "3.12.4"
  }
 },
 "nbformat": 4,
 "nbformat_minor": 5
}
